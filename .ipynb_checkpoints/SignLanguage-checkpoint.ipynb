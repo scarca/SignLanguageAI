{
 "cells": [
  {
   "cell_type": "code",
   "execution_count": 1,
   "metadata": {},
   "outputs": [],
   "source": [
    "import tensorflow as tf \n",
    "import numpy as np \n",
    "from sklearn.model_selection import train_test_split \n",
    "\n",
    "# load data \n",
    "x = np.load(\"./Sign-language-digits-dataset 2/X.npy\")\n",
    "y = np.load(\"./Sign-language-digits-dataset 2/Y.npy\")\n",
    "\n",
    "# Un-One-Hot \n",
    "y = np.argmax(y, axis=1)"
   ]
  },
  {
   "cell_type": "code",
   "execution_count": 10,
   "metadata": {},
   "outputs": [
    {
     "data": {
      "image/png": "[encoded data removed]",
      "text/plain": [
       "<Figure size 432x288 with 1 Axes>"
      ]
     },
     "metadata": {},
     "output_type": "display_data"
    }
   ],
   "source": [
    "# Pre-process: black & white & outline identification \n",
    "import matplotlib.pyplot as plt\n",
    "fig = plt.figure(1) \n",
    "ax = plt.subplot(111)\n",
    "ax.set_axis_off()\n",
    "ax.imshow(x[0])\n",
    "fig.tight_layout()\n",
    "fig.add_axes(ax) \n",
    "fig.savefig(fname=\"icon.png\", dpi=100, bbox_inches=\"tight\", transparent=True)"
   ]
  },
  {
   "cell_type": "code",
   "execution_count": null,
   "metadata": {},
   "outputs": [],
   "source": []
  },
  {
   "cell_type": "code",
   "execution_count": 31,
   "metadata": {
    "scrolled": true
   },
   "outputs": [
    {
     "name": "stdout",
     "output_type": "stream",
     "text": [
      "INFO:tensorflow:Using default config.\n",
      "INFO:tensorflow:Using config: {}\n",
      "INFO:tensorflow:Create CheckpointSaverHook.\n",
      "INFO:tensorflow:Saving checkpoints for 1 into ./tmp/model.ckpt.\n",
      "INFO:tensorflow:loss = 2.30764, step = 1\n",
      "INFO:tensorflow:Saving checkpoints for 57 into ./tmp/model.ckpt.\n",
      "INFO:tensorflow:global_step/sec: 0.0939765\n",
      "INFO:tensorflow:loss = 2.30304, step = 101 (1064.107 sec)\n",
      "INFO:tensorflow:Saving checkpoints for 115 into ./tmp/model.ckpt.\n",
      "INFO:tensorflow:Saving checkpoints for 174 into ./tmp/model.ckpt.\n",
      "INFO:tensorflow:Saving checkpoints for 200 into ./tmp/model.ckpt.\n",
      "INFO:tensorflow:Loss for final step: 2.29761.\n"
     ]
    },
    {
     "data": {
      "text/plain": [
       "<tensorflow.python.estimator.estimator.Estimator at 0x1a1491a748>"
      ]
     },
     "execution_count": 31,
     "metadata": {},
     "output_type": "execute_result"
    }
   ],
   "source": [
    "x_train, x_test, y_train, y_test = train_test_split(x, y)\n",
    "\n",
    "# lets create a CNN \n",
    "def get_fn(features, labels, mode): \n",
    "    # cnn \n",
    "    outputs = labels\n",
    "    input_layer = tf.reshape(features[\"x\"], [-1, 64, 64, 1])\n",
    "    layer1 = tf.layers.conv2d(\n",
    "        inputs=input_layer, \n",
    "        filters=32,\n",
    "        kernel_size=[8, 8], \n",
    "        padding=\"same\", \n",
    "        activation=tf.nn.relu\n",
    "    )\n",
    "    \n",
    "    layer2 = tf.layers.max_pooling2d(\n",
    "        inputs=layer1, \n",
    "        pool_size = [2, 2], \n",
    "        strides=2,\n",
    "    )\n",
    "    \n",
    "    layer3 = tf.layers.conv2d(\n",
    "        inputs=layer2, \n",
    "        filters=64, \n",
    "        kernel_size=[16, 16], \n",
    "        padding=\"same\", \n",
    "        activation=tf.nn.relu\n",
    "    )\n",
    "    layer4 = tf.layers.max_pooling2d(inputs=layer3, pool_size=[8, 8], strides=4)\n",
    "    \n",
    "    # Flatten \n",
    "    flat = tf.reshape(layer4, [-1, 3136]) \n",
    "    # dropout inputs \n",
    "    dropout = tf.layers.dropout(\n",
    "        inputs=flat, \n",
    "        rate=0.25, \n",
    "        training = mode == tf.estimator.ModeKeys.TRAIN\n",
    "    )\n",
    "    \n",
    "    layer5 = tf.layers.dense(\n",
    "        inputs = dropout, \n",
    "        units=64, \n",
    "        activation = tf.nn.relu\n",
    "    )\n",
    "    \n",
    "    dropout2 = tf.layers.dropout(\n",
    "        inputs=layer5, \n",
    "        rate=0.25, \n",
    "        training = mode == tf.estimator.ModeKeys.TRAIN \n",
    "    )\n",
    "    \n",
    "    layer6 = tf.layers.dense( \n",
    "        inputs = dropout2, \n",
    "        activation = tf.nn.sigmoid,\n",
    "        units = 100\n",
    "    )\n",
    "    \n",
    "    layer7 = tf.layers.dense ( \n",
    "        inputs = layer6, \n",
    "        activation = tf.nn.sigmoid, \n",
    "        units=10\n",
    "    )\n",
    "    \n",
    "    predictions = {\n",
    "        \"classes\": tf.argmax(input=layer7, axis=1), \n",
    "        \"probabilities\": tf.nn.softmax(layer7, name=\"softmax_tensor\") \n",
    "    }\n",
    "    \n",
    "    if mode == tf.estimator.ModeKeys.PREDICT: \n",
    "        return tf.estimator.EstimatorSpec(mode=mode, predictions=predictions) \n",
    "    \n",
    "    loss = tf.losses.sparse_softmax_cross_entropy(labels = outputs, logits=layer7)\n",
    "    if mode == tf.estimator.ModeKeys.TRAIN: \n",
    "        optimizer = tf.train.GradientDescentOptimizer(learning_rate=0.0001) \n",
    "        train_op = optimizer.minimize( \n",
    "            loss = loss, \n",
    "            global_step = tf.train.get_global_step()\n",
    "        )\n",
    "        return tf.estimator.EstimatorSpec(mode=mode, loss=loss, train_op = train_op)  \n",
    "    eval_metric_ops = {\n",
    "        \"accuracy\": tf.metrics.accuracy( \n",
    "            labels=outputs, \n",
    "            predictions = predictions[\"classes\"], \n",
    "        ), \n",
    "    }\n",
    "    return tf.estimator.EstimatorSpec(mode=mode, loss=loss, eval_metric_ops = eval_metric_ops) \n",
    "\n",
    "train_input_fn = tf.estimator.inputs.numpy_input_fn(x = {\"x\": x_train}, \n",
    "                                                   y = y_train, \n",
    "                                                   batch_size = 100, \n",
    "                                                   num_epochs = None, \n",
    "                                                    shuffle=True)\n",
    "log_dir = \"./tmp\"\n",
    "tf.gfile.DeleteRecursively(log_dir);\n",
    "tf.gfile.MakeDirs(log_dir)\n",
    "estimator = tf.estimator.Estimator(model_fn = get_fn, model_dir = log_dir)\n",
    "estimator.train(\n",
    "    input_fn = train_input_fn, \n",
    "    steps = 200\n",
    ")"
   ]
  },
  {
   "cell_type": "code",
   "execution_count": 25,
   "metadata": {},
   "outputs": [
    {
     "name": "stdout",
     "output_type": "stream",
     "text": [
      "INFO:tensorflow:Starting evaluation at 2018-06-02-12:29:27\n",
      "INFO:tensorflow:Restoring parameters from ./tmp/model.ckpt-2510\n",
      "INFO:tensorflow:Finished evaluation at 2018-06-02-12:29:43\n",
      "INFO:tensorflow:Saving dict for global step 2510: accuracy = 0.0988372, global_step = 2510, loss = 2.30537\n",
      "WARNING:tensorflow:Skipping summary for global_step, must be a float or np.float32.\n"
     ]
    },
    {
     "data": {
      "text/plain": [
       "{'accuracy': 0.098837212, 'loss': 2.3053746, 'global_step': 2510}"
      ]
     },
     "execution_count": 25,
     "metadata": {},
     "output_type": "execute_result"
    }
   ],
   "source": [
    "eval_input_fn = tf.estimator.inputs.numpy_input_fn(x = {\"x\": x_test}, \n",
    "                                                   y = y_test, \n",
    "                                                   shuffle=True, \n",
    "                                                  num_epochs=1)\n",
    "\n",
    "estimator.evaluate(\n",
    "    input_fn = eval_input_fn, \n",
    ")"
   ]
  },
  {
   "cell_type": "code",
   "execution_count": null,
   "metadata": {},
   "outputs": [],
   "source": []
  }
 ],
 "metadata": {
  "kernelspec": {
   "display_name": "Python [conda env:data]",
   "language": "python",
   "name": "conda-env-data-py"
  },
  "language_info": {
   "codemirror_mode": {
    "name": "ipython",
    "version": 3
   },
   "file_extension": ".py",
   "mimetype": "text/x-python",
   "name": "python",
   "nbconvert_exporter": "python",
   "pygments_lexer": "ipython3",
   "version": "3.6.6"
  }
 },
 "nbformat": 4,
 "nbformat_minor": 2
}
